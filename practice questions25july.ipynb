{
 "cells": [
  {
   "cell_type": "code",
   "execution_count": null,
   "id": "2247b35c",
   "metadata": {},
   "outputs": [],
   "source": [
    "#one"
   ]
  },
  {
   "cell_type": "code",
   "execution_count": 1,
   "id": "57921dcb",
   "metadata": {},
   "outputs": [
    {
     "name": "stdout",
     "output_type": "stream",
     "text": [
      "enter string'abcde'\n",
      "'aBcDe'\n"
     ]
    }
   ],
   "source": [
    "x=input('enter string')\n",
    "i=0\n",
    "y=''\n",
    "while i<len(x):\n",
    "    if i%2==0:\n",
    "        y=y+(x[i].upper())\n",
    "    else:\n",
    "        y=y+(x[i])\n",
    "    i=i+1   \n",
    "print(y)       "
   ]
  },
  {
   "cell_type": "code",
   "execution_count": 3,
   "id": "4a18f8c8",
   "metadata": {},
   "outputs": [
    {
     "name": "stdout",
     "output_type": "stream",
     "text": [
      "enter string'abcde\n",
      "'AbCdE\n"
     ]
    }
   ],
   "source": [
    "x=input('enter string')\n",
    "i=0\n",
    "y=''\n",
    "while i<len(x):\n",
    "    if i%2!=0:\n",
    "        y=y+(x[i].upper())\n",
    "    else:\n",
    "        y=y+(x[i])\n",
    "    i=i+1   \n",
    "print(y)       "
   ]
  },
  {
   "cell_type": "code",
   "execution_count": null,
   "id": "5115697c",
   "metadata": {},
   "outputs": [],
   "source": [
    "#two"
   ]
  },
  {
   "cell_type": "code",
   "execution_count": 4,
   "id": "21d09424",
   "metadata": {},
   "outputs": [
    {
     "name": "stdout",
     "output_type": "stream",
     "text": [
      "<class 'str'>\n",
      "<class 'int'>\n",
      "<class 'int'>\n",
      "<class 'int'>\n",
      "<class 'str'>\n",
      "<class 'complex'>\n"
     ]
    }
   ],
   "source": [
    "x=['a',1,2,3,'abcd',1+2j]\n",
    "i=0\n",
    "while i<len(x):\n",
    "    print(type(x[i]))\n",
    "    i=i+1"
   ]
  },
  {
   "cell_type": "code",
   "execution_count": null,
   "id": "6ebaf65e",
   "metadata": {},
   "outputs": [],
   "source": [
    "#three"
   ]
  },
  {
   "cell_type": "code",
   "execution_count": 4,
   "id": "f852b05c",
   "metadata": {},
   "outputs": [
    {
     "name": "stdout",
     "output_type": "stream",
     "text": [
      "abcg\n",
      "9\n"
     ]
    }
   ],
   "source": [
    "x=['a','b','c','3','g','6']\n",
    "i=0\n",
    "s=''\n",
    "t=0\n",
    "while i<len(x):\n",
    "    if (x[i].isalpha()):\n",
    "        s=s+x[i]\n",
    "    else:\n",
    "        t=t+int(x[i])\n",
    "    i=i+1    \n",
    "print(s)\n",
    "print(t)"
   ]
  },
  {
   "cell_type": "code",
   "execution_count": 4,
   "id": "b0e7307f",
   "metadata": {},
   "outputs": [],
   "source": [
    "#four"
   ]
  },
  {
   "cell_type": "code",
   "execution_count": 5,
   "id": "aacc0eb6",
   "metadata": {},
   "outputs": [
    {
     "name": "stdout",
     "output_type": "stream",
     "text": [
      "type string 'abc456def'\n",
      "['a', 'b', 'c', 'd', 'e', 'f']\n",
      "[' ', \"'\", '4', '5', '6', \"'\"]\n"
     ]
    }
   ],
   "source": [
    "x=input('type string')\n",
    "i=0\n",
    "l1=[]\n",
    "l2=[]\n",
    "while i<len(x):\n",
    "    if x[i].isalpha():\n",
    "        l1.append(x[i])\n",
    "    else:\n",
    "        l2.append(x[i])\n",
    "    i=i+1\n",
    "print(l1)\n",
    "print(l2)"
   ]
  },
  {
   "cell_type": "code",
   "execution_count": 1,
   "id": "11aba2ec",
   "metadata": {},
   "outputs": [],
   "source": [
    "#six"
   ]
  },
  {
   "cell_type": "code",
   "execution_count": 1,
   "id": "ee0ca788",
   "metadata": {},
   "outputs": [
    {
     "name": "stdout",
     "output_type": "stream",
     "text": [
      "num1:10\n",
      "operator/\n",
      "num2:2\n",
      "5.0\n"
     ]
    }
   ],
   "source": [
    "num1=float(input('num1:'))\n",
    "operator=input('operator')\n",
    "num2=float(input('num2:'))\n",
    "if operator=='+':\n",
    "    print(num1+num2)\n",
    "elif operator=='-':\n",
    "    print(num1-num2)\n",
    "elif operator=='*':\n",
    "    print(num1*num2)\n",
    "elif operator=='/':\n",
    "    print(num1/num2)\n",
    "else:\n",
    "    print('invalid operator')"
   ]
  },
  {
   "cell_type": "code",
   "execution_count": null,
   "id": "dbfa4290",
   "metadata": {},
   "outputs": [],
   "source": []
  },
  {
   "cell_type": "code",
   "execution_count": null,
   "id": "9d39ebfa",
   "metadata": {},
   "outputs": [],
   "source": []
  }
 ],
 "metadata": {
  "kernelspec": {
   "display_name": "Python 3 (ipykernel)",
   "language": "python",
   "name": "python3"
  },
  "language_info": {
   "codemirror_mode": {
    "name": "ipython",
    "version": 3
   },
   "file_extension": ".py",
   "mimetype": "text/x-python",
   "name": "python",
   "nbconvert_exporter": "python",
   "pygments_lexer": "ipython3",
   "version": "3.9.12"
  }
 },
 "nbformat": 4,
 "nbformat_minor": 5
}
